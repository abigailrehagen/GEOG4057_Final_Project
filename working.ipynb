{
 "cells": [
  {
   "cell_type": "code",
   "execution_count": 22,
   "metadata": {},
   "outputs": [],
   "source": [
    "import arcpy\n",
    "import os"
   ]
  },
  {
   "cell_type": "code",
   "execution_count": 23,
   "metadata": {},
   "outputs": [],
   "source": [
    "# Enable overwriting\n",
    "arcpy.env.overwriteOutput = True"
   ]
  },
  {
   "cell_type": "code",
   "execution_count": 24,
   "metadata": {},
   "outputs": [],
   "source": [
    "# Define paths\n",
    "input_fc = r\"C:\\Users\\abiga\\OneDrive\\Documents\\Thesis\\wind_lease\\WEA_option_I_M_shapes_w_metadata\\Option_I.shp\"  # Read-only feature class\n",
    "output_raster = r\"C:\\Users\\abiga\\OneDrive\\Documents\\Thesis\\data_code_arc\\RoughDraft\\RoughDraft.gdb\\Feature_Opti1\"  # New raster"
   ]
  },
  {
   "cell_type": "code",
   "execution_count": 25,
   "metadata": {
    "scrolled": true
   },
   "outputs": [
    {
     "data": {
      "text/html": [
       "<div class='gpresult'><h2 class='msg-title'>Messages</h2><div id='messages'>Start Time: Saturday, March 15, 2025 2:38:09 PM<br>Succeeded at Saturday, March 15, 2025 2:38:18 PM (Elapsed Time: 9.75 seconds)<br></div><div id = 'default' /></div></div>"
      ],
      "text/plain": [
       "<Result 'C:\\\\Users\\\\abiga\\\\OneDrive\\\\Documents\\\\Thesis\\\\data_code_arc\\\\RoughDraft\\\\RoughDraft.gdb\\\\Feature_Opti1'>"
      ]
     },
     "execution_count": 25,
     "metadata": {},
     "output_type": "execute_result"
    }
   ],
   "source": [
    "# Convert feature to raster\n",
    "arcpy.conversion.FeatureToRaster(input_fc, \"OBJECTID\", output_raster, cell_size=10)"
   ]
  },
  {
   "cell_type": "code",
   "execution_count": 26,
   "metadata": {},
   "outputs": [],
   "source": [
    "# Create metadata objects\n",
    "input_metadata = arcpy.metadata.Metadata(input_fc)\n",
    "output_metadata = arcpy.metadata.Metadata(output_raster)"
   ]
  },
  {
   "cell_type": "code",
   "execution_count": 27,
   "metadata": {},
   "outputs": [],
   "source": [
    "# Ensure metadata is up to date\n",
    "input_metadata.synchronize(\"SELECTIVE\")"
   ]
  },
  {
   "cell_type": "code",
   "execution_count": 28,
   "metadata": {},
   "outputs": [
    {
     "name": "stdout",
     "output_type": "stream",
     "text": [
      "Metadata copied successfully!\n"
     ]
    }
   ],
   "source": [
    "\n",
    "# Check if input metadata is available\n",
    "if input_metadata.title:  # Checking if metadata exists\n",
    "    # Copy metadata from input feature class to output raster\n",
    "    output_metadata.copy(input_metadata)\n",
    "    output_metadata.save()\n",
    "    print(\"Metadata copied successfully!\")\n",
    "else:\n",
    "    print(\"No metadata found in input feature class.\")"
   ]
  },
  {
   "cell_type": "code",
   "execution_count": null,
   "metadata": {},
   "outputs": [],
   "source": []
  }
 ],
 "metadata": {
  "kernelspec": {
   "display_name": "ArcGISPro",
   "language": "python",
   "name": "python3"
  },
  "language_info": {
   "file_extension": ".py",
   "mimetype": "text/x-python",
   "name": "python",
   "version": "3.11.10"
  }
 },
 "nbformat": 4,
 "nbformat_minor": 4
}
