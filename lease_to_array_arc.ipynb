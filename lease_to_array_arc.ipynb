{
 "cells": [
  {
   "cell_type": "code",
   "execution_count": 3,
   "metadata": {},
   "outputs": [
    {
     "name": "stdout",
     "output_type": "stream",
     "text": [
      "NetCDF file saved successfully with corrected lat/lon scale at: C:\\Users\\abiga\\OneDrive\\Documents\\Puerto_Rico\\PR_boundary.nc\n"
     ]
    }
   ],
   "source": [
    "import arcpy\n",
    "import numpy as np\n",
    "from netCDF4 import Dataset\n",
    "\n",
    "# Define input raster and output NetCDF file\n",
    "input_raster = r\"C:\\Users\\abiga\\OneDrive\\Documents\\Thesis\\GEOG4057_Project\\GEOG4057_Project.gdb\\PR_Raster\"  # Raster created from FeatureToRaster\n",
    "output_netcdf = r\"C:\\Users\\abiga\\OneDrive\\Documents\\Thesis\\PR_boundary.nc\"\n",
    "\n",
    "# Load raster\n",
    "raster = arcpy.Raster(input_raster)\n",
    "array = arcpy.RasterToNumPyArray(raster, nodata_to_value=0)  # Convert NoData to 0\n",
    "\n",
    "# Convert all non-zero values to 1 (binary mask)\n",
    "binary_array = np.where(array > 0, 1, 0)\n",
    "\n",
    "# Get raster properties\n",
    "desc = arcpy.Describe(raster)\n",
    "extent = desc.extent\n",
    "spatial_ref = desc.spatialReference\n",
    "\n",
    "# Approximate bounding box based on Albers extent in meters\n",
    "# NAD83 Albers projection for contiguous USA: approximate geographic extent\n",
    "approx_lat_min, approx_lat_max = 18.5171840, 17.8857690\n",
    "approx_lon_min, approx_lon_max = -67.9429677, -65.2207055\n",
    "\n",
    "# Scale latitude and longitude dynamically based on raster extent\n",
    "rows, cols = binary_array.shape\n",
    "\n",
    "# Use the spatial extent of the raster to determine scaling factor\n",
    "lat_values = np.linspace(approx_lat_max, approx_lat_min, rows)\n",
    "lon_values = np.linspace(approx_lon_min, approx_lon_max, cols)\n",
    "\n",
    "# Save to NetCDF\n",
    "with Dataset(output_netcdf, \"w\", format=\"NETCDF4\") as ncfile:\n",
    "    # Create dimensions\n",
    "    ncfile.createDimension(\"lat\", rows)\n",
    "    ncfile.createDimension(\"lon\", cols)\n",
    "    \n",
    "    # Create latitude and longitude variables\n",
    "    lat_var = ncfile.createVariable(\"lat\", \"f4\", (\"lat\",))\n",
    "    lon_var = ncfile.createVariable(\"lon\", \"f4\", (\"lon\",))\n",
    "    \n",
    "    # Assign coordinate values (1D arrays)\n",
    "    lat_var[:] = lat_values\n",
    "    lon_var[:] = lon_values\n",
    "\n",
    "    # Define raster variable\n",
    "    mask_var = ncfile.createVariable(\"mask\", \"i1\", (\"lat\", \"lon\"))\n",
    "    mask_var.units = \"binary\"\n",
    "    mask_var.long_name = \"Binary mask (1=shape present, 0=absent)\"\n",
    "    \n",
    "    # Assign binary mask data\n",
    "    mask_var[:, :] = binary_array\n",
    "\n",
    "print(\"NetCDF file saved successfully with corrected lat/lon scale at:\", output_netcdf)"
   ]
  },
  {
   "cell_type": "code",
   "execution_count": null,
   "metadata": {},
   "outputs": [],
   "source": []
  }
 ],
 "metadata": {
  "kernelspec": {
   "display_name": "ArcGISPro",
   "language": "python",
   "name": "python3"
  },
  "language_info": {
   "file_extension": ".py",
   "mimetype": "text/x-python",
   "name": "python",
   "version": "3.11.10"
  }
 },
 "nbformat": 4,
 "nbformat_minor": 4
}
